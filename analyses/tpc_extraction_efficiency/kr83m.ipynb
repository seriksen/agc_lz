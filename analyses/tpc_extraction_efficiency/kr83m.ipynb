{
 "cells": [
  {
   "cell_type": "markdown",
   "metadata": {
    "jupyter": {
     "outputs_hidden": false
    }
   },
   "source": [
    "# TPC Electron Extraction Efficiency\n",
    "\n",
    "**Author:** Sam Eriksen\n",
    "\n",
    "**Date:** 18 July 2023"
   ]
  },
  {
   "cell_type": "markdown",
   "metadata": {
    "tags": []
   },
   "source": [
    "## Description\n",
    "\n",
    "This notebook extracts SS events and determines the ratio between the single electron pulses and S2 pulses. \n",
    "This is used to determine the extraction efficiency."
   ]
  },
  {
   "cell_type": "code",
   "execution_count": 1,
   "metadata": {},
   "outputs": [],
   "source": [
    "import utils\n",
    "import copy\n",
    "import numpy as np\n",
    "import matplotlib\n",
    "import matplotlib.pyplot as plt"
   ]
  },
  {
   "cell_type": "code",
   "execution_count": 2,
   "metadata": {},
   "outputs": [],
   "source": [
    "%load_ext jinja_yaml_magic\n",
    "%reload_ext jinja_yaml_magic"
   ]
  },
  {
   "cell_type": "code",
   "execution_count": 3,
   "metadata": {},
   "outputs": [],
   "source": [
    "%%yaml config\n",
    "\n",
    "cluster:\n",
    "    location: \"nersc\" # set where the dask cluster will run. options are \"dirac\", \"nersc\" and \"local\"\n",
    "    scaling: 5 # number of dask workers. Not valid for nersc\n",
    "    scheduler_options: {\"port\": 8786} # options for dask scheduler. Only valid for dirac\n",
    "\n",
    "data: \n",
    "    data_location: \"nersc\" # set where the data will be loaded from. options are \"dirac\" and \"nersc\"\n",
    "    data_path: \"/lz/data/reconstructed/SR1/LZAP-5.5.1*/*/*\" # April 2022 kr85m data\n",
    "    event_range: [8101, 8106] # April 2022 kr85m data\n"
   ]
  },
  {
   "cell_type": "markdown",
   "metadata": {},
   "source": [
    "## Setup dask cluster"
   ]
  },
  {
   "cell_type": "code",
   "execution_count": null,
   "metadata": {},
   "outputs": [],
   "source": [
    "client = utils.clients.get_client(client_type=config['cluster']['location'])"
   ]
  },
  {
   "cell_type": "markdown",
   "metadata": {},
   "source": [
    "## Get files"
   ]
  },
  {
   "cell_type": "code",
   "execution_count": null,
   "metadata": {},
   "outputs": [],
   "source": [
    "files = utils.get_files.get_files(config['data']['data_location'], config['data']['data_path'], config['data']['event_range'])"
   ]
  },
  {
   "cell_type": "markdown",
   "metadata": {},
   "source": [
    "## Setup and run analysis"
   ]
  },
  {
   "cell_type": "code",
   "execution_count": null,
   "metadata": {},
   "outputs": [],
   "source": [
    "output = utils.analysis.create_output()"
   ]
  },
  {
   "cell_type": "code",
   "execution_count": 7,
   "metadata": {
    "tags": []
   },
   "outputs": [],
   "source": [
    "dask_tasks = utils.store.add_dask_tasks([utils.analysis.single_file_analysis(file, copy.deepcopy(output)) for file in files])"
   ]
  },
  {
   "cell_type": "code",
   "execution_count": 8,
   "metadata": {
    "tags": []
   },
   "outputs": [],
   "source": [
    "result = tasks.compute()"
   ]
  },
  {
   "cell_type": "markdown",
   "metadata": {},
   "source": [
    "## Select S2"
   ]
  },
  {
   "cell_type": "code",
   "execution_count": null,
   "metadata": {
    "tags": []
   },
   "outputs": [],
   "source": [
    "s2_type = ['raw', 'corrected', 'xy_corrected']\n",
    "bins=[np.arange(0,1000,1), np.arange(0,7,0.05)]\n",
    "for s2 in s2_type:\n",
    "    fig, ax = plt.subplots(1,1,figsize=(20,10))\n",
    "    ax.hist2d(result['s1_phd'], np.log10(result['s2_phd_' + s2]), bins=bins, cmin=1, norm=matplotlib.colors.LogNorm())\n",
    "    ax.set_ylabel(r'log$_{10}$(S2) [phd]', fontsize=20)\n",
    "    ax.set_xlabel('S1 [phd]', fontsize=20)\n",
    "    ax.set_title('S2 ' + s2, fontsize=30)\n",
    "    plt.plot()"
   ]
  },
  {
   "cell_type": "code",
   "execution_count": null,
   "metadata": {
    "tags": []
   },
   "outputs": [],
   "source": [
    "fig, ax = plt.subplots(1,1,figsize=(20,10))\n",
    "ax.hist(result['elife_correction'], bins=np.arange(0,2,0.01))\n",
    "ax.set_ylabel('count', fontsize=20)\n",
    "ax.set_xlabel(r'$\\frac{{S2 corrected}}{S2 xy corrected}$', fontsize=20)\n",
    "ax.set_title('Electron lifetime correction factor', fontsize=30)\n",
    "plt.plot()"
   ]
  },
  {
   "cell_type": "code",
   "execution_count": null,
   "metadata": {
    "tags": []
   },
   "outputs": [],
   "source": [
    "bins=[np.arange(0,1000,1), np.arange(0,7,0.05)]\n",
    "fig, ax = plt.subplots(1,1,figsize=(20,10))\n",
    "ax.hist2d(result['ss_s1_phd'], np.log10(result['s2_phd_elife_corrected']), bins=bins, cmin=1, norm=matplotlib.colors.LogNorm())\n",
    "ax.set_ylabel(r'log$_{10}$(S2) [phd]', fontsize=20)\n",
    "ax.set_xlabel('S1 [phd]', fontsize=20)\n",
    "ax.set_title('S2 electron lifetime corrected', fontsize=30)\n",
    "plt.plot()"
   ]
  },
  {
   "cell_type": "code",
   "execution_count": null,
   "metadata": {
    "tags": []
   },
   "outputs": [],
   "source": [
    "s2_x_cut = [150, 400, 400, 150, 150]\n",
    "s2_y_cut = [4.0, 4.0, 5.0, 5.0, 4.0]\n",
    "\n",
    "fig, ax = plt.subplots(1,1,figsize=(20,10))\n",
    "ax.hist2d(result['ss_s1_phd'], np.log10(result['s2_phd_elife_corrected']), bins=bins, cmin=1, norm=matplotlib.colors.LogNorm())\n",
    "ax.plot(s2_x_cut, s2_y_cut, color='red', linewidth=3)\n",
    "ax.set_ylabel(r'log$_{10}$(S2) [phd]', fontsize=20)\n",
    "ax.set_xlabel('S1 [phd]', fontsize=20)\n",
    "ax.set_title('S2 electron lifetime corrected', fontsize=30)\n",
    "plt.plot()"
   ]
  },
  {
   "cell_type": "code",
   "execution_count": null,
   "metadata": {
    "tags": []
   },
   "outputs": [],
   "source": [
    "fig, ax = plt.subplots(1,1,figsize=(20,10))\n",
    "ax.hist2d(result['peak_s1'], np.log10(result['peak_s2']), bins=bins, cmin=1, norm=matplotlib.colors.LogNorm())\n",
    "ax.set_ylabel(r'log$_{10}$(S2) [phd]', fontsize=20)\n",
    "ax.set_xlabel('S1 [phd]', fontsize=20)\n",
    "ax.set_title('S2 final selection', fontsize=30)\n",
    "plt.plot()"
   ]
  },
  {
   "cell_type": "code",
   "execution_count": null,
   "metadata": {
    "tags": []
   },
   "outputs": [],
   "source": [
    "bins=[np.arange(0,80,1), np.arange(1.5,7,0.05)]\n",
    "fig, ax = plt.subplots(1,1,figsize=(20,10))\n",
    "ax.hist2d(result['peak_s1'], np.log10(result['peak_s2']), bins=bins, cmin=1, norm=matplotlib.colors.LogNorm())\n",
    "ax.set_xlabel('R', fontsize=20)\n",
    "ax.set_ylabel(r'log$_{10}$(S2) [phd]', fontsize=20)\n",
    "plt.plot()"
   ]
  },
  {
   "cell_type": "code",
   "execution_count": null,
   "metadata": {
    "tags": []
   },
   "outputs": [],
   "source": [
    "fig, ax = plt.subplots(1,1,figsize=(20,10))\n",
    "bins = np.arange(10000,50000,40)\n",
    "r_bins = np.arange(0,80,5)\n",
    "\n",
    "for r in r_bins[:-1]:\n",
    "    selection = np.array(result['peak_r'] <= r+5) * np.array(result['peak_r'] >= r)\n",
    "    selection_s2 = result['peak_s2'][selection]\n",
    "    ax.hist(selection_s2, bins=bins, histtype='step', label='r = ' + str(r) + ' - ' + str(r+5))\n",
    "    ax.set_xlabel(r'log$_{10}$(S2) [phd]', fontsize=20)\n",
    "    ax.legend(fontsize=10)\n",
    "    plt.plot()"
   ]
  }
 ],
 "metadata": {
  "kernelspec": {
   "display_name": "Python 3",
   "language": "python",
   "name": "python3"
  },
  "language_info": {
   "codemirror_mode": {
    "name": "ipython",
    "version": 3
   },
   "file_extension": ".py",
   "mimetype": "text/x-python",
   "name": "python",
   "nbconvert_exporter": "python",
   "pygments_lexer": "ipython3",
   "version": "3.10.12"
  }
 },
 "nbformat": 4,
 "nbformat_minor": 4
}
